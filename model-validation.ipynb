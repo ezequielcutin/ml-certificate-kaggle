{
 "cells": [
  {
   "cell_type": "markdown",
   "id": "a9786838",
   "metadata": {
    "papermill": {
     "duration": 0.004283,
     "end_time": "2024-06-13T15:24:44.177038",
     "exception": false,
     "start_time": "2024-06-13T15:24:44.172755",
     "status": "completed"
    },
    "tags": []
   },
   "source": [
    "**This notebook is an exercise in the [Introduction to Machine Learning](https://www.kaggle.com/learn/intro-to-machine-learning) course.  You can reference the tutorial at [this link](https://www.kaggle.com/dansbecker/model-validation).**\n",
    "\n",
    "---\n"
   ]
  },
  {
   "cell_type": "markdown",
   "id": "3f8c16af",
   "metadata": {
    "papermill": {
     "duration": 0.003479,
     "end_time": "2024-06-13T15:24:44.185116",
     "exception": false,
     "start_time": "2024-06-13T15:24:44.181637",
     "status": "completed"
    },
    "tags": []
   },
   "source": [
    "## Recap\n",
    "You've built a model. In this exercise you will test how good your model is.\n",
    "\n",
    "Run the cell below to set up your coding environment where the previous exercise left off."
   ]
  },
  {
   "cell_type": "code",
   "execution_count": 1,
   "id": "46135895",
   "metadata": {
    "execution": {
     "iopub.execute_input": "2024-06-13T15:24:44.194503Z",
     "iopub.status.busy": "2024-06-13T15:24:44.194098Z",
     "iopub.status.idle": "2024-06-13T15:24:46.563971Z",
     "shell.execute_reply": "2024-06-13T15:24:46.562823Z"
    },
    "papermill": {
     "duration": 2.377593,
     "end_time": "2024-06-13T15:24:46.566443",
     "exception": false,
     "start_time": "2024-06-13T15:24:44.188850",
     "status": "completed"
    },
    "tags": []
   },
   "outputs": [
    {
     "name": "stdout",
     "output_type": "stream",
     "text": [
      "First in-sample predictions: [208500. 181500. 223500. 140000. 250000.]\n",
      "Actual target values for those homes: [208500, 181500, 223500, 140000, 250000]\n",
      "Setup Complete\n"
     ]
    }
   ],
   "source": [
    "# Code you have previously used to load data\n",
    "import pandas as pd\n",
    "from sklearn.tree import DecisionTreeRegressor\n",
    "\n",
    "# Path of the file to read\n",
    "iowa_file_path = '../input/home-data-for-ml-course/train.csv'\n",
    "\n",
    "home_data = pd.read_csv(iowa_file_path)\n",
    "y = home_data.SalePrice\n",
    "feature_columns = ['LotArea', 'YearBuilt', '1stFlrSF', '2ndFlrSF', 'FullBath', 'BedroomAbvGr', 'TotRmsAbvGrd']\n",
    "X = home_data[feature_columns]\n",
    "\n",
    "# Specify Model\n",
    "iowa_model = DecisionTreeRegressor()\n",
    "# Fit Model\n",
    "iowa_model.fit(X, y)\n",
    "\n",
    "print(\"First in-sample predictions:\", iowa_model.predict(X.head()))\n",
    "print(\"Actual target values for those homes:\", y.head().tolist())\n",
    "\n",
    "# Set up code checking\n",
    "from learntools.core import binder\n",
    "binder.bind(globals())\n",
    "from learntools.machine_learning.ex4 import *\n",
    "print(\"Setup Complete\")"
   ]
  },
  {
   "cell_type": "markdown",
   "id": "21f7acb3",
   "metadata": {
    "papermill": {
     "duration": 0.003473,
     "end_time": "2024-06-13T15:24:46.574390",
     "exception": false,
     "start_time": "2024-06-13T15:24:46.570917",
     "status": "completed"
    },
    "tags": []
   },
   "source": [
    "# Exercises\n",
    "\n",
    "## Step 1: Split Your Data\n",
    "Use the `train_test_split` function to split up your data.\n",
    "\n",
    "Give it the argument `random_state=1` so the `check` functions know what to expect when verifying your code.\n",
    "\n",
    "Recall, your features are loaded in the DataFrame **X** and your target is loaded in **y**.\n"
   ]
  },
  {
   "cell_type": "code",
   "execution_count": 2,
   "id": "c9bdaeb5",
   "metadata": {
    "execution": {
     "iopub.execute_input": "2024-06-13T15:24:46.583417Z",
     "iopub.status.busy": "2024-06-13T15:24:46.583053Z",
     "iopub.status.idle": "2024-06-13T15:24:46.674024Z",
     "shell.execute_reply": "2024-06-13T15:24:46.672904Z"
    },
    "papermill": {
     "duration": 0.098077,
     "end_time": "2024-06-13T15:24:46.676157",
     "exception": false,
     "start_time": "2024-06-13T15:24:46.578080",
     "status": "completed"
    },
    "tags": []
   },
   "outputs": [
    {
     "data": {
      "application/javascript": [
       "parent.postMessage({\"jupyterEvent\": \"custom.exercise_interaction\", \"data\": {\"outcomeType\": 1, \"valueTowardsCompletion\": 0.25, \"interactionType\": 1, \"questionType\": 2, \"questionId\": \"1_SplitData\", \"learnToolsVersion\": \"0.3.4\", \"failureMessage\": \"\", \"exceptionClass\": \"\", \"trace\": \"\"}}, \"*\")"
      ],
      "text/plain": [
       "<IPython.core.display.Javascript object>"
      ]
     },
     "metadata": {},
     "output_type": "display_data"
    },
    {
     "data": {
      "text/markdown": [
       "<span style=\"color:#33cc33\">Correct</span>"
      ],
      "text/plain": [
       "Correct"
      ]
     },
     "metadata": {},
     "output_type": "display_data"
    }
   ],
   "source": [
    "# Import the train_test_split function and uncomment\n",
    "from sklearn.model_selection import train_test_split\n",
    "\n",
    "# fill in and uncomment\n",
    "train_X, val_X, train_y, val_y = train_test_split(X,y, random_state = 1)\n",
    "\n",
    "# Check your answer\n",
    "step_1.check()"
   ]
  },
  {
   "cell_type": "markdown",
   "id": "2e0434a3",
   "metadata": {
    "papermill": {
     "duration": 0.003916,
     "end_time": "2024-06-13T15:24:46.684145",
     "exception": false,
     "start_time": "2024-06-13T15:24:46.680229",
     "status": "completed"
    },
    "tags": []
   },
   "source": [
    "## Step 2: Specify and Fit the Model\n",
    "\n",
    "Create a `DecisionTreeRegressor` model and fit it to the relevant data.\n",
    "Set `random_state` to 1 again when creating the model."
   ]
  },
  {
   "cell_type": "code",
   "execution_count": 3,
   "id": "9c6c70fd",
   "metadata": {
    "execution": {
     "iopub.execute_input": "2024-06-13T15:24:46.693959Z",
     "iopub.status.busy": "2024-06-13T15:24:46.693582Z",
     "iopub.status.idle": "2024-06-13T15:24:46.721953Z",
     "shell.execute_reply": "2024-06-13T15:24:46.720899Z"
    },
    "papermill": {
     "duration": 0.035903,
     "end_time": "2024-06-13T15:24:46.724166",
     "exception": false,
     "start_time": "2024-06-13T15:24:46.688263",
     "status": "completed"
    },
    "tags": []
   },
   "outputs": [
    {
     "name": "stdout",
     "output_type": "stream",
     "text": [
      "[186500. 184000. 130000.  92000. 164500. 220000. 335000. 144152. 215000.\n",
      " 262000.]\n",
      "[186500. 184000. 130000.  92000. 164500. 220000. 335000. 144152. 215000.\n",
      " 262000.]\n"
     ]
    },
    {
     "data": {
      "application/javascript": [
       "parent.postMessage({\"jupyterEvent\": \"custom.exercise_interaction\", \"data\": {\"outcomeType\": 1, \"valueTowardsCompletion\": 0.25, \"interactionType\": 1, \"questionType\": 2, \"questionId\": \"2_FitModelWithTrain\", \"learnToolsVersion\": \"0.3.4\", \"failureMessage\": \"\", \"exceptionClass\": \"\", \"trace\": \"\"}}, \"*\")"
      ],
      "text/plain": [
       "<IPython.core.display.Javascript object>"
      ]
     },
     "metadata": {},
     "output_type": "display_data"
    },
    {
     "data": {
      "text/markdown": [
       "<span style=\"color:#33cc33\">Correct</span>"
      ],
      "text/plain": [
       "Correct"
      ]
     },
     "metadata": {},
     "output_type": "display_data"
    }
   ],
   "source": [
    "# You imported DecisionTreeRegressor in your last exercise\n",
    "# and that code has been copied to the setup code above. So, no need to\n",
    "# import it again\n",
    "\n",
    "# Specify the model\n",
    "iowa_model = DecisionTreeRegressor(random_state=1)\n",
    "\n",
    "# Fit iowa_model with the training data.\n",
    "iowa_model.fit(train_X,train_y)\n",
    "\n",
    "# Check your answer\n",
    "step_2.check()"
   ]
  },
  {
   "cell_type": "markdown",
   "id": "7219ab19",
   "metadata": {
    "papermill": {
     "duration": 0.004217,
     "end_time": "2024-06-13T15:24:46.732791",
     "exception": false,
     "start_time": "2024-06-13T15:24:46.728574",
     "status": "completed"
    },
    "tags": []
   },
   "source": [
    "## Step 3: Make Predictions with Validation data\n"
   ]
  },
  {
   "cell_type": "code",
   "execution_count": 4,
   "id": "f4984fb7",
   "metadata": {
    "execution": {
     "iopub.execute_input": "2024-06-13T15:24:46.743001Z",
     "iopub.status.busy": "2024-06-13T15:24:46.742612Z",
     "iopub.status.idle": "2024-06-13T15:24:46.755098Z",
     "shell.execute_reply": "2024-06-13T15:24:46.754098Z"
    },
    "papermill": {
     "duration": 0.020202,
     "end_time": "2024-06-13T15:24:46.757245",
     "exception": false,
     "start_time": "2024-06-13T15:24:46.737043",
     "status": "completed"
    },
    "tags": []
   },
   "outputs": [
    {
     "data": {
      "application/javascript": [
       "parent.postMessage({\"jupyterEvent\": \"custom.exercise_interaction\", \"data\": {\"outcomeType\": 1, \"valueTowardsCompletion\": 0.25, \"interactionType\": 1, \"questionType\": 2, \"questionId\": \"3_ValPreds\", \"learnToolsVersion\": \"0.3.4\", \"failureMessage\": \"\", \"exceptionClass\": \"\", \"trace\": \"\"}}, \"*\")"
      ],
      "text/plain": [
       "<IPython.core.display.Javascript object>"
      ]
     },
     "metadata": {},
     "output_type": "display_data"
    },
    {
     "data": {
      "text/markdown": [
       "<span style=\"color:#33cc33\">Correct</span>"
      ],
      "text/plain": [
       "Correct"
      ]
     },
     "metadata": {},
     "output_type": "display_data"
    }
   ],
   "source": [
    "# Predict with all validation observations\n",
    "val_predictions = iowa_model.predict(val_X)\n",
    "\n",
    "# Check your answer\n",
    "step_3.check()"
   ]
  },
  {
   "cell_type": "markdown",
   "id": "b366a520",
   "metadata": {
    "papermill": {
     "duration": 0.004639,
     "end_time": "2024-06-13T15:24:46.766612",
     "exception": false,
     "start_time": "2024-06-13T15:24:46.761973",
     "status": "completed"
    },
    "tags": []
   },
   "source": [
    "Inspect your predictions and actual values from validation data."
   ]
  },
  {
   "cell_type": "code",
   "execution_count": 5,
   "id": "c215f79e",
   "metadata": {
    "execution": {
     "iopub.execute_input": "2024-06-13T15:24:46.778412Z",
     "iopub.status.busy": "2024-06-13T15:24:46.777369Z",
     "iopub.status.idle": "2024-06-13T15:24:46.785733Z",
     "shell.execute_reply": "2024-06-13T15:24:46.783416Z"
    },
    "papermill": {
     "duration": 0.016578,
     "end_time": "2024-06-13T15:24:46.787931",
     "exception": false,
     "start_time": "2024-06-13T15:24:46.771353",
     "status": "completed"
    },
    "tags": []
   },
   "outputs": [
    {
     "name": "stdout",
     "output_type": "stream",
     "text": [
      "VALIDATION PREDICTIONS\n",
      "[186500. 184000. 130000.  92000. 164500.]\n",
      "ACTUAL PRICES\n",
      "258     231500\n",
      "267     179500\n",
      "288     122000\n",
      "649      84500\n",
      "1233    142000\n",
      "Name: SalePrice, dtype: int64\n"
     ]
    }
   ],
   "source": [
    "# print the top few validation predictions\n",
    "print(\"VALIDATION PREDICTIONS\")\n",
    "print(val_predictions[:5])\n",
    "# print the top few actual prices from validation data\n",
    "print(\"ACTUAL PRICES\")\n",
    "print(val_y[:5])"
   ]
  },
  {
   "cell_type": "markdown",
   "id": "d9cad814",
   "metadata": {
    "papermill": {
     "duration": 0.004512,
     "end_time": "2024-06-13T15:24:46.797232",
     "exception": false,
     "start_time": "2024-06-13T15:24:46.792720",
     "status": "completed"
    },
    "tags": []
   },
   "source": [
    "What do you notice that is different from what you saw with in-sample predictions (which are printed after the top code cell in this page).\n",
    "\n",
    "Do you remember why validation predictions differ from in-sample (or training) predictions? This is an important idea from the last lesson.\n",
    "\n",
    "## Step 4: Calculate the Mean Absolute Error in Validation Data\n"
   ]
  },
  {
   "cell_type": "code",
   "execution_count": 6,
   "id": "b7095806",
   "metadata": {
    "execution": {
     "iopub.execute_input": "2024-06-13T15:24:46.808081Z",
     "iopub.status.busy": "2024-06-13T15:24:46.807680Z",
     "iopub.status.idle": "2024-06-13T15:24:46.818353Z",
     "shell.execute_reply": "2024-06-13T15:24:46.817358Z"
    },
    "papermill": {
     "duration": 0.019261,
     "end_time": "2024-06-13T15:24:46.821095",
     "exception": false,
     "start_time": "2024-06-13T15:24:46.801834",
     "status": "completed"
    },
    "tags": []
   },
   "outputs": [
    {
     "name": "stdout",
     "output_type": "stream",
     "text": [
      "29652.931506849316\n"
     ]
    },
    {
     "data": {
      "application/javascript": [
       "parent.postMessage({\"jupyterEvent\": \"custom.exercise_interaction\", \"data\": {\"outcomeType\": 1, \"valueTowardsCompletion\": 0.25, \"interactionType\": 1, \"questionType\": 1, \"questionId\": \"4_MAE\", \"learnToolsVersion\": \"0.3.4\", \"failureMessage\": \"\", \"exceptionClass\": \"\", \"trace\": \"\"}}, \"*\")"
      ],
      "text/plain": [
       "<IPython.core.display.Javascript object>"
      ]
     },
     "metadata": {},
     "output_type": "display_data"
    },
    {
     "data": {
      "text/markdown": [
       "<span style=\"color:#33cc33\">Correct</span>"
      ],
      "text/plain": [
       "Correct"
      ]
     },
     "metadata": {},
     "output_type": "display_data"
    }
   ],
   "source": [
    "from sklearn.metrics import mean_absolute_error\n",
    "val_mae = mean_absolute_error(val_y, val_predictions)\n",
    "\n",
    "# uncomment following line to see the validation_mae\n",
    "print(val_mae)\n",
    "\n",
    "# Check your answer\n",
    "step_4.check()"
   ]
  },
  {
   "cell_type": "markdown",
   "id": "50a47c43",
   "metadata": {
    "papermill": {
     "duration": 0.005313,
     "end_time": "2024-06-13T15:24:46.831576",
     "exception": false,
     "start_time": "2024-06-13T15:24:46.826263",
     "status": "completed"
    },
    "tags": []
   },
   "source": [
    "Is that MAE good?  There isn't a general rule for what values are good that applies across applications. But you'll see how to use (and improve) this number in the next step.\n",
    "\n",
    "# Keep Going\n",
    "\n",
    "You are ready for **[Underfitting and Overfitting](https://www.kaggle.com/dansbecker/underfitting-and-overfitting).**\n"
   ]
  },
  {
   "cell_type": "markdown",
   "id": "1b5f9088",
   "metadata": {
    "papermill": {
     "duration": 0.005478,
     "end_time": "2024-06-13T15:24:46.842117",
     "exception": false,
     "start_time": "2024-06-13T15:24:46.836639",
     "status": "completed"
    },
    "tags": []
   },
   "source": [
    "---\n",
    "\n",
    "\n",
    "\n",
    "\n",
    "*Have questions or comments? Visit the [course discussion forum](https://www.kaggle.com/learn/intro-to-machine-learning/discussion) to chat with other learners.*"
   ]
  }
 ],
 "metadata": {
  "kaggle": {
   "accelerator": "none",
   "dataSources": [
    {
     "databundleVersionId": 111096,
     "sourceId": 10211,
     "sourceType": "competition"
    },
    {
     "datasetId": 11167,
     "sourceId": 15520,
     "sourceType": "datasetVersion"
    },
    {
     "datasetId": 2709,
     "sourceId": 38454,
     "sourceType": "datasetVersion"
    }
   ],
   "isGpuEnabled": false,
   "isInternetEnabled": false,
   "language": "python",
   "sourceType": "notebook"
  },
  "kernelspec": {
   "display_name": "Python 3",
   "language": "python",
   "name": "python3"
  },
  "language_info": {
   "codemirror_mode": {
    "name": "ipython",
    "version": 3
   },
   "file_extension": ".py",
   "mimetype": "text/x-python",
   "name": "python",
   "nbconvert_exporter": "python",
   "pygments_lexer": "ipython3",
   "version": "3.10.13"
  },
  "papermill": {
   "default_parameters": {},
   "duration": 5.994047,
   "end_time": "2024-06-13T15:24:47.368835",
   "environment_variables": {},
   "exception": null,
   "input_path": "__notebook__.ipynb",
   "output_path": "__notebook__.ipynb",
   "parameters": {},
   "start_time": "2024-06-13T15:24:41.374788",
   "version": "2.5.0"
  }
 },
 "nbformat": 4,
 "nbformat_minor": 5
}
